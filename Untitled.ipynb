{
 "cells": [
  {
   "cell_type": "markdown",
   "id": "57719990",
   "metadata": {},
   "source": [
    "Project Introduction for Jupyter Notebook\n",
    "\n",
    "* This project focuses on the normalization and resubmission eligibility assessment of insurance claim data. The dataset comes from multiple sources: a CSV file (emr_alpha.csv) and a JSON file (emr_beta.json). The goal is to:\n",
    "\n",
    "*Normalize the data into a unified schema to ensure consistency across the dataset.\n",
    "\n",
    "Assess eligibility for resubmission based on a set of business rules, including the status of the claim, whether the patient ID is available, submission date, and the reason for denial.\n",
    "\n",
    "Generate a list of resubmission candidates with recommendations for correcting the issues flagged by the denial reason.\n",
    "\n",
    "The project is divided into the following steps:\n",
    "\n",
    "Data Normalization: The raw data from both CSV and JSON formats is processed and normalized into a standardized format.\n",
    "\n",
    "Eligibility Check: Claims are evaluated based on the conditions for resubmission, such as denied status, patient ID, and the denial reason.\n",
    "\n",
    "Resubmission Output: A list of claims eligible for resubmission is generated, which includes suggestions on what changes need to be made.\n",
    "\n",
    "This approach ensures that claims are processed efficiently and ready for resubmission, improving the claims review process."
   ]
  },
  {
   "cell_type": "markdown",
   "id": "3ce0e27b",
   "metadata": {},
   "source": [
    "### Step1: Normalize Data from emr_alpha.csv and json file\n",
    "We will first normalize the data from the CSV file into the required unified schema"
   ]
  },
  {
   "cell_type": "code",
   "execution_count": 1,
   "id": "e4fb9e07",
   "metadata": {},
   "outputs": [],
   "source": [
    "# Import necessary libraries\n",
    "import pandas as pd\n",
    "from datetime import datetime\n",
    "import json\n",
    "import logging\n",
    "import io\n"
   ]
  },
  {
   "cell_type": "code",
   "execution_count": 2,
   "id": "306fc7bb",
   "metadata": {},
   "outputs": [],
   "source": [
    "df = pd.read_csv('emr_alpha.csv')"
   ]
  },
  {
   "cell_type": "code",
   "execution_count": 3,
   "id": "8ab99c46",
   "metadata": {
    "scrolled": true
   },
   "outputs": [
    {
     "data": {
      "text/html": [
       "<div>\n",
       "<style scoped>\n",
       "    .dataframe tbody tr th:only-of-type {\n",
       "        vertical-align: middle;\n",
       "    }\n",
       "\n",
       "    .dataframe tbody tr th {\n",
       "        vertical-align: top;\n",
       "    }\n",
       "\n",
       "    .dataframe thead th {\n",
       "        text-align: right;\n",
       "    }\n",
       "</style>\n",
       "<table border=\"1\" class=\"dataframe\">\n",
       "  <thead>\n",
       "    <tr style=\"text-align: right;\">\n",
       "      <th></th>\n",
       "      <th>claim_id</th>\n",
       "      <th>patient_id</th>\n",
       "      <th>procedure_code</th>\n",
       "      <th>denial_reason</th>\n",
       "      <th>submitted_at</th>\n",
       "      <th>status</th>\n",
       "    </tr>\n",
       "  </thead>\n",
       "  <tbody>\n",
       "    <tr>\n",
       "      <th>0</th>\n",
       "      <td>A123</td>\n",
       "      <td>P001</td>\n",
       "      <td>99213</td>\n",
       "      <td>Missing modifier</td>\n",
       "      <td>2025-07-01</td>\n",
       "      <td>denied</td>\n",
       "    </tr>\n",
       "    <tr>\n",
       "      <th>1</th>\n",
       "      <td>A124</td>\n",
       "      <td>P002</td>\n",
       "      <td>99214</td>\n",
       "      <td>Incorrect NPI</td>\n",
       "      <td>2025-07-10</td>\n",
       "      <td>denied</td>\n",
       "    </tr>\n",
       "    <tr>\n",
       "      <th>2</th>\n",
       "      <td>A125</td>\n",
       "      <td>NaN</td>\n",
       "      <td>99215</td>\n",
       "      <td>Authorization expired</td>\n",
       "      <td>2025-07-05</td>\n",
       "      <td>denied</td>\n",
       "    </tr>\n",
       "    <tr>\n",
       "      <th>3</th>\n",
       "      <td>A126</td>\n",
       "      <td>P003</td>\n",
       "      <td>99381</td>\n",
       "      <td>NaN</td>\n",
       "      <td>2025-07-15</td>\n",
       "      <td>approved</td>\n",
       "    </tr>\n",
       "    <tr>\n",
       "      <th>4</th>\n",
       "      <td>A127</td>\n",
       "      <td>P004</td>\n",
       "      <td>99401</td>\n",
       "      <td>Prior auth required</td>\n",
       "      <td>2025-07-20</td>\n",
       "      <td>denied</td>\n",
       "    </tr>\n",
       "  </tbody>\n",
       "</table>\n",
       "</div>"
      ],
      "text/plain": [
       "  claim_id patient_id  procedure_code          denial_reason submitted_at  \\\n",
       "0     A123       P001           99213       Missing modifier   2025-07-01   \n",
       "1     A124       P002           99214          Incorrect NPI   2025-07-10   \n",
       "2     A125        NaN           99215  Authorization expired   2025-07-05   \n",
       "3     A126       P003           99381                    NaN   2025-07-15   \n",
       "4     A127       P004           99401    Prior auth required   2025-07-20   \n",
       "\n",
       "     status  \n",
       "0    denied  \n",
       "1    denied  \n",
       "2    denied  \n",
       "3  approved  \n",
       "4    denied  "
      ]
     },
     "execution_count": 3,
     "metadata": {},
     "output_type": "execute_result"
    }
   ],
   "source": [
    "df.head ()"
   ]
  },
  {
   "cell_type": "code",
   "execution_count": 4,
   "id": "1a95c1ec",
   "metadata": {},
   "outputs": [],
   "source": [
    "# Set up logging\n",
    "logging.basicConfig(level=logging.INFO, format='%(asctime)s - %(levelname)s - %(message)s')"
   ]
  },
  {
   "cell_type": "code",
   "execution_count": 5,
   "id": "46408b92",
   "metadata": {},
   "outputs": [],
   "source": [
    "# Define the function to normalize data from CSV\n",
    "def normalize_alpha(file_path):\n",
    "    df = pd.read_csv(file_path)\n",
    "    normalized_claims = []\n",
    "    for index, row in df.iterrows():\n",
    "        try:\n",
    "            normalized_claim = {\n",
    "                \"claim_id\": row[\"claim_id\"],\n",
    "                \"patient_id\": row[\"patient_id\"] if pd.notnull(row[\"patient_id\"]) else None,\n",
    "                \"procedure_code\": row[\"procedure_code\"],\n",
    "                \"denial_reason\": row[\"denial_reason\"] if pd.notnull(row[\"denial_reason\"]) else None,\n",
    "                \"status\": row[\"status\"].lower(),\n",
    "                \"submitted_at\": datetime.strptime(row[\"submitted_at\"], \"%Y-%m-%d\").isoformat(),\n",
    "                \"source_system\": \"alpha\"\n",
    "            }\n",
    "            normalized_claims.append(normalized_claim)\n",
    "        except Exception as e:\n",
    "            logging.warning(f\"Error processing row {index} from CSV: {e}\")\n",
    "    return normalized_claims"
   ]
  },
  {
   "cell_type": "code",
   "execution_count": 6,
   "id": "6b2ce24f",
   "metadata": {},
   "outputs": [
    {
     "name": "stdout",
     "output_type": "stream",
     "text": [
      "Normalized Claims from emr_alpha.csv:\n",
      "{'claim_id': 'A123', 'patient_id': 'P001', 'procedure_code': 99213, 'denial_reason': 'Missing modifier', 'status': 'denied', 'submitted_at': '2025-07-01T00:00:00', 'source_system': 'alpha'}\n",
      "{'claim_id': 'A124', 'patient_id': 'P002', 'procedure_code': 99214, 'denial_reason': 'Incorrect NPI', 'status': 'denied', 'submitted_at': '2025-07-10T00:00:00', 'source_system': 'alpha'}\n",
      "{'claim_id': 'A125', 'patient_id': None, 'procedure_code': 99215, 'denial_reason': 'Authorization expired', 'status': 'denied', 'submitted_at': '2025-07-05T00:00:00', 'source_system': 'alpha'}\n",
      "{'claim_id': 'A126', 'patient_id': 'P003', 'procedure_code': 99381, 'denial_reason': None, 'status': 'approved', 'submitted_at': '2025-07-15T00:00:00', 'source_system': 'alpha'}\n",
      "{'claim_id': 'A127', 'patient_id': 'P004', 'procedure_code': 99401, 'denial_reason': 'Prior auth required', 'status': 'denied', 'submitted_at': '2025-07-20T00:00:00', 'source_system': 'alpha'}\n"
     ]
    }
   ],
   "source": [
    "# Call the normalize_alpha function with the correct file path\n",
    "normalized_data_alpha = normalize_alpha('emr_alpha.csv')\n",
    "\n",
    "# Print the first few normalized claims from the CSV data\n",
    "print(\"Normalized Claims from emr_alpha.csv:\")\n",
    "for claim in normalized_data_alpha[:5]:  # Print first 5 claims\n",
    "    print(claim)\n",
    "\n",
    "    "
   ]
  },
  {
   "cell_type": "markdown",
   "id": "259a4d96",
   "metadata": {},
   "source": [
    "Explanation:\n",
    "\n",
    "##### We use pandas to read the CSV file and iterate through each row.\n",
    "\n",
    "For each record:\n",
    "\n",
    "* We handle null values for patient_id and denial_reason (convert them to None if they are missing).\n",
    "\n",
    "* We ensure the status is in lowercase for consistency.\n",
    "\n",
    "* We convert the submitted_at field into ISO format using datetime.strptime.\n",
    "\n",
    "* We add a new field source_system and set it to \"alpha\" since this data comes from the emr_alpha.csv file."
   ]
  },
  {
   "cell_type": "markdown",
   "id": "b232c04f",
   "metadata": {},
   "source": [
    "### Normalize Data from emr_beta.json (JSON format)\n",
    "Next, we will normalize the data from the JSON file (emr_beta.json)."
   ]
  },
  {
   "cell_type": "code",
   "execution_count": 7,
   "id": "b9025154",
   "metadata": {},
   "outputs": [],
   "source": [
    "#Load the json file into pandas\n",
    "df_json = pd.read_json('emr_beta.json')"
   ]
  },
  {
   "cell_type": "code",
   "execution_count": 8,
   "id": "c62b0dec",
   "metadata": {},
   "outputs": [
    {
     "data": {
      "text/html": [
       "<div>\n",
       "<style scoped>\n",
       "    .dataframe tbody tr th:only-of-type {\n",
       "        vertical-align: middle;\n",
       "    }\n",
       "\n",
       "    .dataframe tbody tr th {\n",
       "        vertical-align: top;\n",
       "    }\n",
       "\n",
       "    .dataframe thead th {\n",
       "        text-align: right;\n",
       "    }\n",
       "</style>\n",
       "<table border=\"1\" class=\"dataframe\">\n",
       "  <thead>\n",
       "    <tr style=\"text-align: right;\">\n",
       "      <th></th>\n",
       "      <th>id</th>\n",
       "      <th>member</th>\n",
       "      <th>code</th>\n",
       "      <th>error_msg</th>\n",
       "      <th>date</th>\n",
       "      <th>status</th>\n",
       "    </tr>\n",
       "  </thead>\n",
       "  <tbody>\n",
       "    <tr>\n",
       "      <th>0</th>\n",
       "      <td>B987</td>\n",
       "      <td>P010</td>\n",
       "      <td>99213</td>\n",
       "      <td>Incorrect provider type</td>\n",
       "      <td>2025-07-03</td>\n",
       "      <td>denied</td>\n",
       "    </tr>\n",
       "    <tr>\n",
       "      <th>1</th>\n",
       "      <td>B988</td>\n",
       "      <td>P011</td>\n",
       "      <td>99214</td>\n",
       "      <td>Missing modifier</td>\n",
       "      <td>2025-07-09</td>\n",
       "      <td>denied</td>\n",
       "    </tr>\n",
       "    <tr>\n",
       "      <th>2</th>\n",
       "      <td>B989</td>\n",
       "      <td>P012</td>\n",
       "      <td>99215</td>\n",
       "      <td>None</td>\n",
       "      <td>2025-07-10</td>\n",
       "      <td>approved</td>\n",
       "    </tr>\n",
       "    <tr>\n",
       "      <th>3</th>\n",
       "      <td>B990</td>\n",
       "      <td>None</td>\n",
       "      <td>99401</td>\n",
       "      <td>incorrect procedure</td>\n",
       "      <td>2025-07-01</td>\n",
       "      <td>denied</td>\n",
       "    </tr>\n",
       "  </tbody>\n",
       "</table>\n",
       "</div>"
      ],
      "text/plain": [
       "     id member   code                error_msg       date    status\n",
       "0  B987   P010  99213  Incorrect provider type 2025-07-03    denied\n",
       "1  B988   P011  99214         Missing modifier 2025-07-09    denied\n",
       "2  B989   P012  99215                     None 2025-07-10  approved\n",
       "3  B990   None  99401      incorrect procedure 2025-07-01    denied"
      ]
     },
     "execution_count": 8,
     "metadata": {},
     "output_type": "execute_result"
    }
   ],
   "source": [
    "df_json.head ()"
   ]
  },
  {
   "cell_type": "code",
   "execution_count": 9,
   "id": "37d20936",
   "metadata": {},
   "outputs": [],
   "source": [
    "# Define the function to normalize data from JSON\n",
    "def normalize_beta(file_path):\n",
    "    with open(file_path, 'r') as f:\n",
    "        data = json.load(f)\n",
    "    normalized_claims = []\n",
    "    for index, record in enumerate(data):\n",
    "        try:\n",
    "            normalized_claim = {\n",
    "                \"claim_id\": record[\"id\"],\n",
    "                \"patient_id\": record[\"member\"] if record.get(\"member\") else None,\n",
    "                \"procedure_code\": record[\"code\"],\n",
    "                \"denial_reason\": record[\"error_msg\"] if record.get(\"error_msg\") else None,\n",
    "                \"status\": record[\"status\"].lower(),\n",
    "                \"submitted_at\": datetime.fromisoformat(record[\"date\"]).isoformat(),\n",
    "                \"source_system\": \"beta\"\n",
    "            }\n",
    "            normalized_claims.append(normalized_claim)\n",
    "        except Exception as e:\n",
    "            logging.warning(f\"Error processing record {index} from JSON: {e}\")\n",
    "    return normalized_claims\n",
    "    \n"
   ]
  },
  {
   "cell_type": "code",
   "execution_count": 10,
   "id": "a2a29c86",
   "metadata": {},
   "outputs": [
    {
     "name": "stdout",
     "output_type": "stream",
     "text": [
      "Normalized Claims from emr_beta.json:\n",
      "{'claim_id': 'B987', 'patient_id': 'P010', 'procedure_code': '99213', 'denial_reason': 'Incorrect provider type', 'status': 'denied', 'submitted_at': '2025-07-03T00:00:00', 'source_system': 'beta'}\n",
      "{'claim_id': 'B988', 'patient_id': 'P011', 'procedure_code': '99214', 'denial_reason': 'Missing modifier', 'status': 'denied', 'submitted_at': '2025-07-09T00:00:00', 'source_system': 'beta'}\n",
      "{'claim_id': 'B989', 'patient_id': 'P012', 'procedure_code': '99215', 'denial_reason': None, 'status': 'approved', 'submitted_at': '2025-07-10T00:00:00', 'source_system': 'beta'}\n",
      "{'claim_id': 'B990', 'patient_id': None, 'procedure_code': '99401', 'denial_reason': 'incorrect procedure', 'status': 'denied', 'submitted_at': '2025-07-01T00:00:00', 'source_system': 'beta'}\n"
     ]
    }
   ],
   "source": [
    "# Call the normalize_beta function with the correct file path\n",
    "normalized_data_beta = normalize_beta('emr_beta.json')\n",
    "\n",
    "# Print the first few normalized claims from the JSON data\n",
    "print(\"Normalized Claims from emr_beta.json:\")\n",
    "for claim in normalized_data_beta[:5]:  # Print first 5 claims\n",
    "    print(claim)"
   ]
  },
  {
   "cell_type": "markdown",
   "id": "533b554d",
   "metadata": {},
   "source": [
    "##### Explanation\n",
    "* We use the json library to load the data from the JSON file.\n",
    "\n",
    "For each record in the JSON data:\n",
    "\n",
    "* We check for missing patient_id and denial_reason and handle them by setting them to None if missing.\n",
    "\n",
    "* We convert the status to lowercase to ensure consistent formatting.\n",
    "\n",
    "* We parse the submitted_at field and convert it into ISO format using datetime.fromisoformat.\n",
    "\n",
    "* We add a source_system field and set it to \"beta\" since this data comes from the emr_beta.json file."
   ]
  },
  {
   "cell_type": "markdown",
   "id": "ad582d0b",
   "metadata": {},
   "source": [
    "### Combine Both Data Sources into One Unified Schema\n",
    "Once the data from both the CSV and JSON sources is normalized, we can combine them into a unified structure."
   ]
  },
  {
   "cell_type": "code",
   "execution_count": 11,
   "id": "bdbfe283",
   "metadata": {},
   "outputs": [],
   "source": [
    "# Function to combine the data from both sources (CSV and JSON)\n",
    "def combine_claims(alpha_data, beta_data):\n",
    "    # Combine both normalized lists of claims\n",
    "    all_claims = alpha_data + beta_data\n",
    "    return all_claims\n"
   ]
  },
  {
   "cell_type": "code",
   "execution_count": 12,
   "id": "dfe9ec16",
   "metadata": {},
   "outputs": [
    {
     "name": "stdout",
     "output_type": "stream",
     "text": [
      "Combined Normalized Claims from both CSV and JSON:\n",
      "{'claim_id': 'A123', 'patient_id': 'P001', 'procedure_code': 99213, 'denial_reason': 'Missing modifier', 'status': 'denied', 'submitted_at': '2025-07-01T00:00:00', 'source_system': 'alpha'}\n",
      "{'claim_id': 'A124', 'patient_id': 'P002', 'procedure_code': 99214, 'denial_reason': 'Incorrect NPI', 'status': 'denied', 'submitted_at': '2025-07-10T00:00:00', 'source_system': 'alpha'}\n",
      "{'claim_id': 'A125', 'patient_id': None, 'procedure_code': 99215, 'denial_reason': 'Authorization expired', 'status': 'denied', 'submitted_at': '2025-07-05T00:00:00', 'source_system': 'alpha'}\n",
      "{'claim_id': 'A126', 'patient_id': 'P003', 'procedure_code': 99381, 'denial_reason': None, 'status': 'approved', 'submitted_at': '2025-07-15T00:00:00', 'source_system': 'alpha'}\n",
      "{'claim_id': 'A127', 'patient_id': 'P004', 'procedure_code': 99401, 'denial_reason': 'Prior auth required', 'status': 'denied', 'submitted_at': '2025-07-20T00:00:00', 'source_system': 'alpha'}\n"
     ]
    }
   ],
   "source": [
    "# Combine the normalized data from both sources (CSV and JSON)\n",
    "all_normalized_claims = combine_claims(normalized_data_alpha, normalized_data_beta)\n",
    "\n",
    "# Print the first few combined claims to verify the output\n",
    "print(\"Combined Normalized Claims from both CSV and JSON:\")\n",
    "for claim in all_normalized_claims[:5]:  # Print first 5 combined claims\n",
    "    print(claim)"
   ]
  },
  {
   "cell_type": "markdown",
   "id": "71db7c51",
   "metadata": {},
   "source": [
    "#### Step 2: Resubmission Eligibility Logic"
   ]
  },
  {
   "cell_type": "code",
   "execution_count": 13,
   "id": "75eaf88f",
   "metadata": {},
   "outputs": [],
   "source": [
    "# Checking Resubmission Eligibility\n",
    "# Define today's date (2025-07-30)\n",
    "TODAY = datetime(2025, 7, 30)"
   ]
  },
  {
   "cell_type": "code",
   "execution_count": 14,
   "id": "c64e6472",
   "metadata": {},
   "outputs": [],
   "source": [
    "# Retryable and non-retryable reasons\n",
    "RETRYABLE = {\"Missing modifier\", \"Incorrect NPI\", \"Prior auth required\"}\n",
    "NON_RETRYABLE = {\"Authorization expired\", \"Incorrect provider type\"}\n",
    "AMBIGUOUS = {\"incorrect procedure\", \"form incomplete\", \"not billable\", None}"
   ]
  },
  {
   "cell_type": "code",
   "execution_count": 15,
   "id": "61bf4b8e",
   "metadata": {},
   "outputs": [],
   "source": [
    "# Function to classify denial reasons (retryable or not)\n",
    "def classify_reason(reason):\n",
    "    \"\"\"\n",
    "    This function classifies denial reasons into retryable or non-retryable based on predefined rules.\n",
    "    \"\"\"\n",
    "    if reason in RETRYABLE:\n",
    "        return True  # Retryable denial reason\n",
    "    if reason in NON_RETRYABLE:\n",
    "        return False  # Non-retryable denial reason\n",
    "    if reason in AMBIGUOUS:\n",
    "        return True  # Ambiguous reasons classified as retryable (mock LLM inference)\n",
    "    return False  # Default to non-retryable if reason doesn't match any category"
   ]
  },
  {
   "cell_type": "code",
   "execution_count": 16,
   "id": "eef6d8af",
   "metadata": {},
   "outputs": [],
   "source": [
    "#Check eligibility for the first few claims\n",
    "# Eligibility check for resubmission\n",
    "def is_eligible_for_resubmission(claim):\n",
    "    try:\n",
    "        if claim['status'] != 'denied':\n",
    "            return False\n",
    "        if claim['patient_id'] is None:\n",
    "            return False\n",
    "        submitted_at = datetime.fromisoformat(claim['submitted_at'])\n",
    "        if (TODAY - submitted_at).days <= 7:\n",
    "            return False\n",
    "        if not classify_reason(claim['denial_reason']):\n",
    "            return False\n",
    "        return True\n",
    "    except Exception as e:\n",
    "        logging.error(f\"Error processing claim {claim['claim_id']}: {e}\")\n",
    "        return False"
   ]
  },
  {
   "cell_type": "markdown",
   "id": "d7eb956c",
   "metadata": {},
   "source": [
    "### Explanation:\n",
    "\n",
    "* classify_reason(): This function classifies each denial reason into retryable or non-retryable categories. Ambiguous reasons (like \"incorrect procedure\" or None) are classified as retryable.\n",
    "\n",
    "is_eligible_for_resubmission():\n",
    "\n",
    "* Condition 1: The claim must have a status of 'denied'.\n",
    "\n",
    "* Condition 2: The patient_id must not be None.\n",
    "\n",
    "* Condition 3: The claim must have been submitted more than 7 days ago (relative to 2025-07-30).\n",
    "\n",
    "* Condition 4: The denial_reason must either be a retryable reason (from the predefined set) or inferred as retryable (for ambiguous reasons).\n",
    "\n",
    "Checking claims: In the last part of the code, the is_eligible_for_resubmission() function is called for the first five claims (all_normalized_claims[:5]), and eligible claims are printed."
   ]
  },
  {
   "cell_type": "markdown",
   "id": "6678cc4b",
   "metadata": {},
   "source": [
    "### Step 3: Output the Resubmission List\n",
    "In this step, we will produce a list of eligible claims for automated resubmission"
   ]
  },
  {
   "cell_type": "code",
   "execution_count": 17,
   "id": "a5b1c7fc",
   "metadata": {},
   "outputs": [],
   "source": [
    "def generate_resubmission_output():\n",
    "    resubmission_output = []  # List to store resubmission details\n",
    "    total_claims = 0\n",
    "    resubmission_count = 0\n",
    "    excluded_count = 0\n",
    "    excluded_reasons = []\n",
    "\n",
    "    # Count how many claims from each source\n",
    "    alpha_count = 0\n",
    "    beta_count = 0\n",
    "\n",
    "    for claim in all_normalized_claims:\n",
    "        total_claims += 1\n",
    "        if claim[\"source_system\"] == \"alpha\":\n",
    "            alpha_count += 1\n",
    "        elif claim[\"source_system\"] == \"beta\":\n",
    "            beta_count += 1\n",
    "        \n",
    "        if is_eligible_for_resubmission(claim):\n",
    "            resubmission_count += 1\n",
    "            resubmission_info = {\n",
    "                \"claim_id\": claim[\"claim_id\"],\n",
    "                \"resubmission_reason\": claim[\"denial_reason\"],\n",
    "                \"source_system\": claim[\"source_system\"],\n",
    "                \"recommended_changes\": f\"Review {claim['denial_reason']} and resubmit\"\n",
    "            }\n",
    "            resubmission_output.append(resubmission_info)\n",
    "        else:\n",
    "            excluded_count += 1\n",
    "            excluded_reasons.append(claim[\"claim_id\"])\n",
    "\n",
    "    # Save the result to a JSON file\n",
    "    with open(\"resubmission_candidates.json\", \"w\") as output_file:\n",
    "        json.dump(resubmission_output, output_file, indent=2)\n",
    "\n",
    "    # Log the metrics\n",
    "    logging.info(f\"Total claims processed: {total_claims}\")\n",
    "    logging.info(f\"Claims from alpha: {alpha_count}\")\n",
    "    logging.info(f\"Claims from beta: {beta_count}\")\n",
    "    logging.info(f\"Claims flagged for resubmission: {resubmission_count}\")\n",
    "    logging.info(f\"Claims excluded: {excluded_count}\")\n",
    "    logging.info(f\"Excluded claims: {excluded_reasons}\")\n",
    "\n",
    "    # Print output for verification\n",
    "    print(\"Resubmission Output:\")\n",
    "    print(json.dumps(resubmission_output, indent=2))\n",
    "\n",
    "\n"
   ]
  },
  {
   "cell_type": "code",
   "execution_count": 18,
   "id": "018d5b5c",
   "metadata": {},
   "outputs": [
    {
     "name": "stderr",
     "output_type": "stream",
     "text": [
      "2025-08-19 12:01:22,457 - INFO - Total claims processed: 9\n",
      "2025-08-19 12:01:22,457 - INFO - Claims from alpha: 5\n",
      "2025-08-19 12:01:22,457 - INFO - Claims from beta: 4\n",
      "2025-08-19 12:01:22,457 - INFO - Claims flagged for resubmission: 4\n",
      "2025-08-19 12:01:22,457 - INFO - Claims excluded: 5\n",
      "2025-08-19 12:01:22,472 - INFO - Excluded claims: ['A125', 'A126', 'B987', 'B989', 'B990']\n"
     ]
    },
    {
     "name": "stdout",
     "output_type": "stream",
     "text": [
      "Resubmission Output:\n",
      "[\n",
      "  {\n",
      "    \"claim_id\": \"A123\",\n",
      "    \"resubmission_reason\": \"Missing modifier\",\n",
      "    \"source_system\": \"alpha\",\n",
      "    \"recommended_changes\": \"Review Missing modifier and resubmit\"\n",
      "  },\n",
      "  {\n",
      "    \"claim_id\": \"A124\",\n",
      "    \"resubmission_reason\": \"Incorrect NPI\",\n",
      "    \"source_system\": \"alpha\",\n",
      "    \"recommended_changes\": \"Review Incorrect NPI and resubmit\"\n",
      "  },\n",
      "  {\n",
      "    \"claim_id\": \"A127\",\n",
      "    \"resubmission_reason\": \"Prior auth required\",\n",
      "    \"source_system\": \"alpha\",\n",
      "    \"recommended_changes\": \"Review Prior auth required and resubmit\"\n",
      "  },\n",
      "  {\n",
      "    \"claim_id\": \"B988\",\n",
      "    \"resubmission_reason\": \"Missing modifier\",\n",
      "    \"source_system\": \"beta\",\n",
      "    \"recommended_changes\": \"Review Missing modifier and resubmit\"\n",
      "  }\n",
      "]\n"
     ]
    }
   ],
   "source": [
    "# Run the output generation function\n",
    "generate_resubmission_output()"
   ]
  },
  {
   "cell_type": "markdown",
   "id": "f4962c7f",
   "metadata": {},
   "source": [
    "##### Explanation\n",
    "\n",
    "generate_resubmission_output():\n",
    "\n",
    "* We create an empty list resubmission_output to store the final resubmission information.\n",
    "\n",
    "* We iterate through the all_normalized_claims and use the eligibility check (is_eligible_for_resubmission()) to determine if the claim is eligible for resubmission.\n",
    "\n",
    "For each eligible claim, we create a dictionary with:\n",
    "\n",
    "* claim_id: The unique identifier for the claim.\n",
    "\n",
    "* resubmission_reason: The denial reason (i.e., the reason for rejection).\n",
    "\n",
    "* source_system: The system from which the claim originated (alpha or beta).\n",
    "\n",
    "* recommended_changes: A string suggesting what needs to be done to resubmit the claim (e.g., reviewing the NPI number).\n",
    "\n",
    "* The results are saved to a file called resubmission_candidates.json in the specified format."
   ]
  },
  {
   "cell_type": "code",
   "execution_count": null,
   "id": "a8173316",
   "metadata": {},
   "outputs": [],
   "source": []
  }
 ],
 "metadata": {
  "kernelspec": {
   "display_name": "Python 3 (ipykernel)",
   "language": "python",
   "name": "python3"
  },
  "language_info": {
   "codemirror_mode": {
    "name": "ipython",
    "version": 3
   },
   "file_extension": ".py",
   "mimetype": "text/x-python",
   "name": "python",
   "nbconvert_exporter": "python",
   "pygments_lexer": "ipython3",
   "version": "3.11.5"
  }
 },
 "nbformat": 4,
 "nbformat_minor": 5
}
