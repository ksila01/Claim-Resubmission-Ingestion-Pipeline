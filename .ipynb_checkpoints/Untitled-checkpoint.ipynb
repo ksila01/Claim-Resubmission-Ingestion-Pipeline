{
 "cells": [
  {
   "cell_type": "markdown",
   "id": "a3f6e299",
   "metadata": {},
   "source": [
    "## Normalize Data from emr_alpha.csv \n",
    "We will first normalize the data from the CSV file into the required unified schema"
   ]
  },
  {
   "cell_type": "code",
   "execution_count": 1,
   "id": "1e9c85bc",
   "metadata": {},
   "outputs": [],
   "source": [
    "# Import necessary libraries\n",
    "import pandas as pd\n",
    "from datetime import datetime"
   ]
  },
  {
   "cell_type": "code",
   "execution_count": 2,
   "id": "da15ca03",
   "metadata": {},
   "outputs": [],
   "source": [
    "df = pd.read_csv('emr_alpha.csv')"
   ]
  },
  {
   "cell_type": "code",
   "execution_count": 3,
   "id": "5753090c",
   "metadata": {},
   "outputs": [
    {
     "data": {
      "text/html": [
       "<div>\n",
       "<style scoped>\n",
       "    .dataframe tbody tr th:only-of-type {\n",
       "        vertical-align: middle;\n",
       "    }\n",
       "\n",
       "    .dataframe tbody tr th {\n",
       "        vertical-align: top;\n",
       "    }\n",
       "\n",
       "    .dataframe thead th {\n",
       "        text-align: right;\n",
       "    }\n",
       "</style>\n",
       "<table border=\"1\" class=\"dataframe\">\n",
       "  <thead>\n",
       "    <tr style=\"text-align: right;\">\n",
       "      <th></th>\n",
       "      <th>claim_id</th>\n",
       "      <th>patient_id</th>\n",
       "      <th>procedure_code</th>\n",
       "      <th>denial_reason</th>\n",
       "      <th>submitted_at</th>\n",
       "      <th>status</th>\n",
       "    </tr>\n",
       "  </thead>\n",
       "  <tbody>\n",
       "    <tr>\n",
       "      <th>0</th>\n",
       "      <td>A123</td>\n",
       "      <td>P001</td>\n",
       "      <td>99213</td>\n",
       "      <td>Missing modifier</td>\n",
       "      <td>2025-07-01</td>\n",
       "      <td>denied</td>\n",
       "    </tr>\n",
       "    <tr>\n",
       "      <th>1</th>\n",
       "      <td>A124</td>\n",
       "      <td>P002</td>\n",
       "      <td>99214</td>\n",
       "      <td>Incorrect NPI</td>\n",
       "      <td>2025-07-10</td>\n",
       "      <td>denied</td>\n",
       "    </tr>\n",
       "    <tr>\n",
       "      <th>2</th>\n",
       "      <td>A125</td>\n",
       "      <td>NaN</td>\n",
       "      <td>99215</td>\n",
       "      <td>Authorization expired</td>\n",
       "      <td>2025-07-05</td>\n",
       "      <td>denied</td>\n",
       "    </tr>\n",
       "    <tr>\n",
       "      <th>3</th>\n",
       "      <td>A126</td>\n",
       "      <td>P003</td>\n",
       "      <td>99381</td>\n",
       "      <td>NaN</td>\n",
       "      <td>2025-07-15</td>\n",
       "      <td>approved</td>\n",
       "    </tr>\n",
       "    <tr>\n",
       "      <th>4</th>\n",
       "      <td>A127</td>\n",
       "      <td>P004</td>\n",
       "      <td>99401</td>\n",
       "      <td>Prior auth required</td>\n",
       "      <td>2025-07-20</td>\n",
       "      <td>denied</td>\n",
       "    </tr>\n",
       "  </tbody>\n",
       "</table>\n",
       "</div>"
      ],
      "text/plain": [
       "  claim_id patient_id  procedure_code          denial_reason submitted_at  \\\n",
       "0     A123       P001           99213       Missing modifier   2025-07-01   \n",
       "1     A124       P002           99214          Incorrect NPI   2025-07-10   \n",
       "2     A125        NaN           99215  Authorization expired   2025-07-05   \n",
       "3     A126       P003           99381                    NaN   2025-07-15   \n",
       "4     A127       P004           99401    Prior auth required   2025-07-20   \n",
       "\n",
       "     status  \n",
       "0    denied  \n",
       "1    denied  \n",
       "2    denied  \n",
       "3  approved  \n",
       "4    denied  "
      ]
     },
     "execution_count": 3,
     "metadata": {},
     "output_type": "execute_result"
    }
   ],
   "source": [
    "df.head ()"
   ]
  },
  {
   "cell_type": "code",
   "execution_count": 10,
   "id": "d1316f6f",
   "metadata": {},
   "outputs": [],
   "source": [
    "# Define the function to normalize data from CSV\n",
    "def normalize_alpha(file_path):\n",
    "    \"\"\"\n",
    "    This function reads the given CSV file and normalizes the data according to the schema.\n",
    "\n",
    "    Returns:\n",
    "    - List of normalized claims.\n",
    "    \"\"\"\n",
    "    # Read the CSV data into a pandas dataframe\n",
    "    df = pd.read_csv(file_path)\n",
    "\n",
    "    # Initialize an empty list to store normalized records\n",
    "    normalized_claims = []\n",
    "\n",
    "    # Iterate through each row in the dataframe and normalize it\n",
    "    for index, row in df.iterrows():\n",
    "        normalized_claim = {\n",
    "            \"claim_id\": row[\"claim_id\"],\n",
    "            \"patient_id\": row[\"patient_id\"] if pd.notnull(row[\"patient_id\"]) else None,  # Handle null patient_id\n",
    "            \"procedure_code\": row[\"procedure_code\"],\n",
    "            \"denial_reason\": row[\"denial_reason\"] if pd.notnull(row[\"denial_reason\"]) else None,  # Handle null denial_reason\n",
    "            \"status\": row[\"status\"].lower(),  # Ensure consistent casing (lowercase)\n",
    "            \"submitted_at\": datetime.strptime(row[\"submitted_at\"], \"%Y-%m-%d\").isoformat(),  # Normalize date format\n",
    "            \"source_system\": \"alpha\"  # Add source_system field based on file origin\n",
    "        }\n",
    "        normalized_claims.append(normalized_claim)\n",
    "\n",
    "    return normalized_claims\n",
    "\n"
   ]
  },
  {
   "cell_type": "code",
   "execution_count": 13,
   "id": "e4ff5433",
   "metadata": {},
   "outputs": [
    {
     "name": "stdout",
     "output_type": "stream",
     "text": [
      "Normalized Claims:\n",
      "{'claim_id': 'A123', 'patient_id': 'P001', 'procedure_code': 99213, 'denial_reason': 'Missing modifier', 'status': 'denied', 'submitted_at': '2025-07-01T00:00:00', 'source_system': 'alpha'}\n",
      "{'claim_id': 'A124', 'patient_id': 'P002', 'procedure_code': 99214, 'denial_reason': 'Incorrect NPI', 'status': 'denied', 'submitted_at': '2025-07-10T00:00:00', 'source_system': 'alpha'}\n",
      "{'claim_id': 'A125', 'patient_id': None, 'procedure_code': 99215, 'denial_reason': 'Authorization expired', 'status': 'denied', 'submitted_at': '2025-07-05T00:00:00', 'source_system': 'alpha'}\n",
      "{'claim_id': 'A126', 'patient_id': 'P003', 'procedure_code': 99381, 'denial_reason': None, 'status': 'approved', 'submitted_at': '2025-07-15T00:00:00', 'source_system': 'alpha'}\n",
      "{'claim_id': 'A127', 'patient_id': 'P004', 'procedure_code': 99401, 'denial_reason': 'Prior auth required', 'status': 'denied', 'submitted_at': '2025-07-20T00:00:00', 'source_system': 'alpha'}\n"
     ]
    }
   ],
   "source": [
    "# Testing the normalize_alpha function\n",
    "normalized_claims = normalize_alpha('emr_alpha.csv')\n",
    "# Print the first few normalized claims to verify the output\n",
    "print(\"Normalized Claims:\")\n",
    "for claim in normalized_claims[:5]:  # Print first 5 claims\n",
    "    print(claim)"
   ]
  },
  {
   "cell_type": "markdown",
   "id": "db061b34",
   "metadata": {},
   "source": [
    "Explanation:\n",
    "\n",
    "##### We use pandas to read the CSV file and iterate through each row.\n",
    "\n",
    "For each record:\n",
    "\n",
    "* We handle null values for patient_id and denial_reason (convert them to None if they are missing).\n",
    "\n",
    "* We ensure the status is in lowercase for consistency.\n",
    "\n",
    "* We convert the submitted_at field into ISO format using datetime.strptime.\n",
    "\n",
    "* We add a new field source_system and set it to \"alpha\" since this data comes from the emr_alpha.csv file."
   ]
  },
  {
   "cell_type": "code",
   "execution_count": null,
   "id": "c34b158e",
   "metadata": {},
   "outputs": [],
   "source": []
  }
 ],
 "metadata": {
  "kernelspec": {
   "display_name": "Python 3 (ipykernel)",
   "language": "python",
   "name": "python3"
  },
  "language_info": {
   "codemirror_mode": {
    "name": "ipython",
    "version": 3
   },
   "file_extension": ".py",
   "mimetype": "text/x-python",
   "name": "python",
   "nbconvert_exporter": "python",
   "pygments_lexer": "ipython3",
   "version": "3.11.5"
  }
 },
 "nbformat": 4,
 "nbformat_minor": 5
}
